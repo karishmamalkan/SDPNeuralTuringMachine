{
 "cells": [
  {
   "cell_type": "code",
   "execution_count": 7,
   "metadata": {
    "collapsed": true
   },
   "outputs": [],
   "source": [
    "from collections import Counter\n",
    "import string"
   ]
  },
  {
   "cell_type": "code",
   "execution_count": 79,
   "metadata": {
    "collapsed": false
   },
   "outputs": [],
   "source": [
    "from collections import Counter\n",
    "import string\n",
    "from random import shuffle\n",
    "import numpy as np\n",
    "\n",
    "def createTrainingSetAndBuildVocab(filename):\n",
    "    filename='../data/pdtb-for-naacl2016/dev-levelone.txt'\n",
    "    vacabSize=10\n",
    "    vocab = buildVocab(filename,vacabSize)       \n",
    "    trainingSetWordFormat,trainingSetIndicesFormat = readData(filename,vocab)\n",
    "    word_embeddings=np.identity(vacabSize + 3)\n",
    "    print vocab\n",
    "    print trainingSetIndicesFormat\n",
    "    for (arg1,arg2,label) in trainingSetIndicesFormat:\n",
    "        print arg1\n",
    "        print word_embeddings[arg1]\n",
    "        break\n",
    "\n",
    "def buildVocab(filename,maxWords):\n",
    "    wordCounter=Counter()\n",
    "    counter=0\n",
    "    \n",
    "    dataFile=open(filename,'r')\n",
    "    for line in dataFile:\n",
    "        #ignore new document lines\n",
    "        if '===' in line:\n",
    "            continue\n",
    "        \n",
    "        [arg,label]=line.rstrip().split('\\t')\n",
    "        #ignore label -1 args for vocab\n",
    "        if label==-1:\n",
    "            continue\n",
    "        \n",
    "        #update wordCounter with words of this arg\n",
    "        wordCounter.update(arg.translate(None, string.punctuation).split())\n",
    "        \n",
    "        #simple break out of loop\n",
    "        counter+=1\n",
    "        if counter==3:\n",
    "            break\n",
    "    \n",
    "    dataFile.close()\n",
    "    \n",
    "    topWords = wordCounter.most_common(maxWords)\n",
    "    topWords = [word for (word,count) in topWords]\n",
    "    shuffle(topWords)\n",
    "    topWords = ['<s>','</s>','UNK'] + topWords\n",
    "    wordDict=dict([(word,index) for index,word in enumerate(topWords)])\n",
    "    return wordDict\n",
    "    \n",
    "    \n",
    "def getIndices(arg1,wordDict):    \n",
    "    indices=[wordDict['<s>']]\n",
    "    for word in arg1.split():\n",
    "        if word in wordDict:\n",
    "            indices.append(wordDict[word])\n",
    "        else:\n",
    "            indices.append(wordDict['UNK'])\n",
    "    indices.append(wordDict['</s>'])\n",
    "    return indices\n",
    "\n",
    "def readData(filename,wordDict):\n",
    "    trainingSetWordFormat=[]\n",
    "    trainingSetIndicesFormat=[]\n",
    "    wordCounter=Counter()\n",
    "    arg1=None\n",
    "    counter=0\n",
    "\n",
    "    dataFile=open(filename,'r')\n",
    "    for line in dataFile:\n",
    "        #starting a new document. Set arg1 to None\n",
    "        if '===' in line:\n",
    "            arg1=None\n",
    "            continue\n",
    "            \n",
    "        #set current line to arg2 and create new training data point    \n",
    "        [arg2,label]=line.rstrip().split('\\t')\n",
    "        if arg1!=None:# and label!=\"-1\":\n",
    "            arg1Indices=getIndices(arg1,wordDict)\n",
    "            arg2Indices=getIndices(arg2,wordDict)\n",
    "            trainingSetWordFormat.append((arg1,arg2,label))\n",
    "            trainingSetIndicesFormat.append((arg1Indices,arg2Indices,label))\n",
    "        \n",
    "        #prepare for next iteration, current arg1=arg2. Future: numbers just get their own token, also can use root word \n",
    "        arg1=arg2\n",
    "        \n",
    "        #simple break out of loop\n",
    "        counter+=1\n",
    "        if counter==3:\n",
    "            break\n",
    "    dataFile.close()\n",
    "        \n",
    "    return trainingSetWordFormat,trainingSetIndicesFormat\n",
    "\n",
    "\n",
    "            \n"
   ]
  },
  {
   "cell_type": "code",
   "execution_count": 80,
   "metadata": {
    "collapsed": false
   },
   "outputs": [
    {
     "name": "stdout",
     "output_type": "stream",
     "text": [
      "{'a': 8, 'on': 11, 'UNK': 2, '<s>': 0, 'of': 7, 'with': 12, 'it': 5, 'to': 9, 'said': 3, 'dividend': 10, 'the': 6, 'trust': 4, '</s>': 1}\n",
      "[([0, 2, 2, 2, 2, 4, 3, 5, 2, 2, 10, 2, 12, 8, 2, 2, 11, 2, 2, 9, 2, 7, 2, 2, 2, 2, 1], [0, 6, 2, 2, 2, 2, 4, 2, 2, 8, 10, 11, 2, 2, 2, 2, 2, 2, 2, 2, 2, 2, 8, 2, 2, 1], '-1'), ([0, 6, 2, 2, 2, 2, 4, 2, 2, 8, 10, 11, 2, 2, 2, 2, 2, 2, 2, 2, 2, 2, 8, 2, 2, 1], [0, 2, 2, 2, 12, 2, 2, 2, 2, 2, 2, 6, 4, 3, 5, 2, 9, 2, 2, 9, 2, 2, 2, 6, 2, 7, 2, 2, 7, 2, 7, 2, 2, 2, 1], '-1')]\n",
      "[0, 2, 2, 2, 2, 4, 3, 5, 2, 2, 10, 2, 12, 8, 2, 2, 11, 2, 2, 9, 2, 7, 2, 2, 2, 2, 1]\n",
      "[[ 1.  0.  0.  0.  0.  0.  0.  0.  0.  0.  0.  0.  0.]\n",
      " [ 0.  0.  1.  0.  0.  0.  0.  0.  0.  0.  0.  0.  0.]\n",
      " [ 0.  0.  1.  0.  0.  0.  0.  0.  0.  0.  0.  0.  0.]\n",
      " [ 0.  0.  1.  0.  0.  0.  0.  0.  0.  0.  0.  0.  0.]\n",
      " [ 0.  0.  1.  0.  0.  0.  0.  0.  0.  0.  0.  0.  0.]\n",
      " [ 0.  0.  0.  0.  1.  0.  0.  0.  0.  0.  0.  0.  0.]\n",
      " [ 0.  0.  0.  1.  0.  0.  0.  0.  0.  0.  0.  0.  0.]\n",
      " [ 0.  0.  0.  0.  0.  1.  0.  0.  0.  0.  0.  0.  0.]\n",
      " [ 0.  0.  1.  0.  0.  0.  0.  0.  0.  0.  0.  0.  0.]\n",
      " [ 0.  0.  1.  0.  0.  0.  0.  0.  0.  0.  0.  0.  0.]\n",
      " [ 0.  0.  0.  0.  0.  0.  0.  0.  0.  0.  1.  0.  0.]\n",
      " [ 0.  0.  1.  0.  0.  0.  0.  0.  0.  0.  0.  0.  0.]\n",
      " [ 0.  0.  0.  0.  0.  0.  0.  0.  0.  0.  0.  0.  1.]\n",
      " [ 0.  0.  0.  0.  0.  0.  0.  0.  1.  0.  0.  0.  0.]\n",
      " [ 0.  0.  1.  0.  0.  0.  0.  0.  0.  0.  0.  0.  0.]\n",
      " [ 0.  0.  1.  0.  0.  0.  0.  0.  0.  0.  0.  0.  0.]\n",
      " [ 0.  0.  0.  0.  0.  0.  0.  0.  0.  0.  0.  1.  0.]\n",
      " [ 0.  0.  1.  0.  0.  0.  0.  0.  0.  0.  0.  0.  0.]\n",
      " [ 0.  0.  1.  0.  0.  0.  0.  0.  0.  0.  0.  0.  0.]\n",
      " [ 0.  0.  0.  0.  0.  0.  0.  0.  0.  1.  0.  0.  0.]\n",
      " [ 0.  0.  1.  0.  0.  0.  0.  0.  0.  0.  0.  0.  0.]\n",
      " [ 0.  0.  0.  0.  0.  0.  0.  1.  0.  0.  0.  0.  0.]\n",
      " [ 0.  0.  1.  0.  0.  0.  0.  0.  0.  0.  0.  0.  0.]\n",
      " [ 0.  0.  1.  0.  0.  0.  0.  0.  0.  0.  0.  0.  0.]\n",
      " [ 0.  0.  1.  0.  0.  0.  0.  0.  0.  0.  0.  0.  0.]\n",
      " [ 0.  0.  1.  0.  0.  0.  0.  0.  0.  0.  0.  0.  0.]\n",
      " [ 0.  1.  0.  0.  0.  0.  0.  0.  0.  0.  0.  0.  0.]]\n"
     ]
    }
   ],
   "source": [
    "wordCounter=createTrainingSetAndBuildVocab(\"ww\")"
   ]
  },
  {
   "cell_type": "code",
   "execution_count": 44,
   "metadata": {
    "collapsed": false
   },
   "outputs": [
    {
     "data": {
      "text/plain": [
       "[('trust', 0), ('of', 1), ('to', 2)]"
      ]
     },
     "execution_count": 44,
     "metadata": {},
     "output_type": "execute_result"
    }
   ],
   "source": [
    "\n",
    "[(word,ind) for ind,(word,count) in enumerate(topWords)]"
   ]
  },
  {
   "cell_type": "code",
   "execution_count": 25,
   "metadata": {
    "collapsed": false
   },
   "outputs": [
    {
     "name": "stdout",
     "output_type": "stream",
     "text": [
      "0 of\n",
      "1 trust\n",
      "2 to\n"
     ]
    }
   ],
   "source": [
    "\n",
    "for i,(w,c) in enumerate(wordCounter.most_common(3)):\n",
    "    print i,w\n",
    "          "
   ]
  },
  {
   "cell_type": "code",
   "execution_count": 30,
   "metadata": {
    "collapsed": false
   },
   "outputs": [
    {
     "name": "stdout",
     "output_type": "stream",
     "text": [
      "[('of', 4), ('trust', 3), ('to', 3)]\n",
      "[('to', 3), ('trust', 3), ('of', 4)]\n"
     ]
    }
   ],
   "source": [
    "from random import shuffle\n",
    "x=wordCounter.most_common(3)\n",
    "print x\n",
    "shuffle(x)\n",
    "print x"
   ]
  },
  {
   "cell_type": "code",
   "execution_count": null,
   "metadata": {
    "collapsed": true
   },
   "outputs": [],
   "source": []
  }
 ],
 "metadata": {
  "kernelspec": {
   "display_name": "Python 2",
   "language": "python",
   "name": "python2"
  },
  "language_info": {
   "codemirror_mode": {
    "name": "ipython",
    "version": 2
   },
   "file_extension": ".py",
   "mimetype": "text/x-python",
   "name": "python",
   "nbconvert_exporter": "python",
   "pygments_lexer": "ipython2",
   "version": "2.7.6"
  }
 },
 "nbformat": 4,
 "nbformat_minor": 0
}
